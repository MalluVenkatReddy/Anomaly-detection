{
 "cells": [
  {
   "cell_type": "code",
   "execution_count": null,
   "id": "712325ca",
   "metadata": {},
   "outputs": [],
   "source": [
    "Q1. What is the role of feature selection in anomaly detection?"
   ]
  },
  {
   "cell_type": "markdown",
   "id": "9f5c715b",
   "metadata": {},
   "source": [
    "#### Feature selection plays an important role when it comes to improve outlier detection in terms of identifying noisy data that contain irrelevant or redundant features"
   ]
  },
  {
   "cell_type": "code",
   "execution_count": null,
   "id": "2dbd3e19",
   "metadata": {},
   "outputs": [],
   "source": [
    "Q2. What are some common evaluation metrics for anomaly detection algorithms and how are they \n",
    "computed?"
   ]
  },
  {
   "cell_type": "markdown",
   "id": "31dc7193",
   "metadata": {},
   "source": [
    "#### Intuitively Measuring & Explaining Performance. Beyond accuracy, the most commonly used metrics when evaluating anomaly detection solutions are F1, Precision and Recall"
   ]
  },
  {
   "cell_type": "code",
   "execution_count": null,
   "id": "94368347",
   "metadata": {},
   "outputs": [],
   "source": [
    "Q3. What is DBSCAN and how does it work for clustering?"
   ]
  },
  {
   "cell_type": "markdown",
   "id": "d3c7149a",
   "metadata": {},
   "source": [
    "#### DBSCAN is a density-based clustering algorithm that works on the assumption that clusters are dense regions in space separated by regions of lower density. It groups 'densely grouped' data points into a single cluster."
   ]
  },
  {
   "cell_type": "code",
   "execution_count": null,
   "id": "9dd16315",
   "metadata": {},
   "outputs": [],
   "source": [
    "Q4. How does the epsilon parameter affect the performance of DBSCAN in detecting anomalies?"
   ]
  },
  {
   "cell_type": "markdown",
   "id": "e1a296be",
   "metadata": {},
   "source": [
    "#### DBScan is highly sensitive to clustering parameters minnumpoints & EPS.\n",
    "\n",
    "Large value of EPS , may form broad clusters , reduce the number of clusters and may result into reduction in number of noise point .\n",
    "\n",
    "Small value of EPS may introduce more noise points."
   ]
  },
  {
   "cell_type": "code",
   "execution_count": null,
   "id": "05a2b5a4",
   "metadata": {},
   "outputs": [],
   "source": [
    "Q5. What are the differences between the core, border, and noise points in DBSCAN, and how do they relate \n",
    "to anomaly detection?"
   ]
  },
  {
   "cell_type": "markdown",
   "id": "54e16fa7",
   "metadata": {},
   "source": [
    "#### The Core Points, as the name suggests, lie usually within the interior of a cluster. A Border Point has fewer than MinPts within its ϵ-neighborhood (N), but it lies in the neighborhood of another core point. Noise is any data point that is neither core nor border point."
   ]
  },
  {
   "cell_type": "code",
   "execution_count": null,
   "id": "e0b1433e",
   "metadata": {},
   "outputs": [],
   "source": [
    "Q6. How does DBSCAN detect anomalies and what are the key parameters involved in the process?"
   ]
  },
  {
   "cell_type": "markdown",
   "id": "0de6b31c",
   "metadata": {},
   "source": [
    "#### DBSCAN considers two main parameters (as mentioned below) to form a cluster with the nearest data point and based on the high or low-density region, it detects Inliers or outliers.\n",
    "\n",
    "-- Epsilon (Radius of datapoint that we can calculate based on k-distance graph)\n",
    "\n",
    "-- Min_samples (number of data points to be considered in the Epsilon (radius) which depends on domain knowledge or expert advice)"
   ]
  },
  {
   "cell_type": "code",
   "execution_count": null,
   "id": "d12b7a04",
   "metadata": {},
   "outputs": [],
   "source": [
    "Q7. What is the make_circles package in scikit-learn used f"
   ]
  },
  {
   "cell_type": "markdown",
   "id": "6e52fdc7",
   "metadata": {},
   "source": [
    "#### Make a large circle containing a smaller circle in 2d.\n",
    "\n",
    "A simple toy dataset to visualize clustering and classification algorithms."
   ]
  },
  {
   "cell_type": "code",
   "execution_count": null,
   "id": "c2273d2c",
   "metadata": {},
   "outputs": [],
   "source": [
    "Q8. What are local outliers and global outliers, and how do they differ from each other?"
   ]
  },
  {
   "cell_type": "markdown",
   "id": "d6a03880",
   "metadata": {},
   "source": [
    "#### There are two general types of outlier detection: global and local. Global outliers fall outside the normal range for an entire dataset, whereas local outliers may fall within the normal range for the entire dataset, but outside the normal range for the surrounding data points"
   ]
  },
  {
   "cell_type": "code",
   "execution_count": null,
   "id": "e9c3d536",
   "metadata": {},
   "outputs": [],
   "source": [
    "Q9. How can local outliers be detected using the Local Outlier Factor (LOF) algorithm?"
   ]
  },
  {
   "cell_type": "markdown",
   "id": "b3a60620",
   "metadata": {},
   "source": [
    "#### The Local Outlier Factor (LOF) algorithm is an unsupervised anomaly detection method which computes the local density deviation of a given data point with respect to its neighbors. It considers as outliers the samples that have a substantially lower density than their neighbors."
   ]
  },
  {
   "cell_type": "code",
   "execution_count": null,
   "id": "3f5ecc59",
   "metadata": {},
   "outputs": [],
   "source": [
    "Q10. How can global outliers be detected using the Isolation Forest algorithm?"
   ]
  },
  {
   "cell_type": "markdown",
   "id": "d4a61790",
   "metadata": {},
   "source": [
    "#### A global outlier is a measured sample point that has a very high or a very low value relative to all the values in a dataset. For example, if 99 out of 100 points have values between 300 and 400, but the 100th point has a value of 750, the 100th point may be a global outlier"
   ]
  },
  {
   "cell_type": "code",
   "execution_count": null,
   "id": "ceef49ac",
   "metadata": {},
   "outputs": [],
   "source": [
    "Q11. What are some real-world applications where local outlier detection is more appropriate than global \n",
    "outlier detection, and vice versa?"
   ]
  },
  {
   "cell_type": "markdown",
   "id": "716a76b7",
   "metadata": {},
   "source": [
    "####  if large sums of money are spent one after another within one day and it is not your typical behavior, a bank can block your card, this is an example of local outlier."
   ]
  },
  {
   "cell_type": "markdown",
   "id": "12698d00",
   "metadata": {},
   "source": [
    "#### What is the difference between global and local outliers?\n",
    "There are two general types of outlier detection: global and local. Global outliers fall outside the normal range for an entire dataset, whereas local outliers may fall within the normal range for the entire dataset, but outside the normal range for the surrounding data points."
   ]
  }
 ],
 "metadata": {
  "kernelspec": {
   "display_name": "Python 3 (ipykernel)",
   "language": "python",
   "name": "python3"
  },
  "language_info": {
   "codemirror_mode": {
    "name": "ipython",
    "version": 3
   },
   "file_extension": ".py",
   "mimetype": "text/x-python",
   "name": "python",
   "nbconvert_exporter": "python",
   "pygments_lexer": "ipython3",
   "version": "3.9.13"
  }
 },
 "nbformat": 4,
 "nbformat_minor": 5
}
